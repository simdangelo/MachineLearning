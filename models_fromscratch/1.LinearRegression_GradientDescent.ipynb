{
 "cells": [
  {
   "cell_type": "markdown",
   "id": "238b8776",
   "metadata": {},
   "source": [
    "For this model I used Aladdin Persson video on Youtube:\n",
    "\n",
    "https://www.youtube.com/watch?v=pCCUnoes1Po&t=2s&ab_channel=AladdinPersson"
   ]
  },
  {
   "cell_type": "markdown",
   "id": "9a662f5e",
   "metadata": {},
   "source": [
    "* `m`: training examples\n",
    "* `n`: number of features\n",
    "* `X.shape = (m,n)`\n",
    "* `y.shape = (m,1)`\n",
    "* `w.shape = (n,1)`\n",
    "\n",
    "With calculation:\n",
    "$$\\frac{\\partial}{\\partial w_j}L(w) = \\frac{2}{m}\\sum(\\hat{y}_{w}^{(i)} - y^i)x_j$$\n"
   ]
  },
  {
   "cell_type": "code",
   "execution_count": 1,
   "id": "41e54820",
   "metadata": {},
   "outputs": [],
   "source": [
    "import numpy as np"
   ]
  },
  {
   "cell_type": "code",
   "execution_count": 2,
   "id": "a33b643b",
   "metadata": {},
   "outputs": [
    {
     "name": "stdout",
     "output_type": "stream",
     "text": [
      "Cost at itetation 0 is 3.02889058965202\n",
      "Cost at itetation 2000 is 0.011563772407619681\n",
      "Cost at itetation 4000 is 0.009277074013324005\n",
      "Cost at itetation 6000 is 0.00926560008934436\n",
      "Cost at itetation 8000 is 0.009265542516849527\n",
      "Cost at itetation 10000 is 0.009265542227969093\n"
     ]
    }
   ],
   "source": [
    "class LinearRegression():\n",
    "    def __init__(self):\n",
    "        self.learning_rate = 0.01\n",
    "        self.total_iterations = 10000\n",
    "    \n",
    "    def y_hat(self, X, w): #yhat = w1x1 + w2x2 è w3x3 where x1=1 so w1 is the intercept\n",
    "        return np.dot(X, w)\n",
    "    \n",
    "    def loss(self, yhat, y):\n",
    "        L = 1/self.m * np.sum(np.power(yhat - y, 2))\n",
    "        return L\n",
    "    \n",
    "    def gradient_descent(self, w, X, y, yhat):\n",
    "        # Let's think in this way: what we want return from gradient descent optimization is w = w-lr*dLdW = (n,1),\n",
    "        # so we want dLdW to be (n,1).\n",
    "        # \n",
    "        # dLdW = (yhat-y)X   ---> (n,1) = (m,1)(m,n) is not correct --> (n,m)(m,1) = (n,1)-->X need to be transposed\n",
    "        dLdW = 2/self.m * np.dot(X.T, (yhat - y))\n",
    "        w = w - self.learning_rate * dLdW\n",
    "        return w\n",
    "    \n",
    "    def main(self, X, y):\n",
    "        x1 = np.ones((X.shape[0], 1))\n",
    "        X = np.append(X, x1, axis=1)\n",
    "        \n",
    "        self.m = X.shape[0]\n",
    "        self.n = X.shape[1]\n",
    "        w = np.zeros((self.n, 1))\n",
    "        \n",
    "        for it in range(self.total_iterations+1):\n",
    "            yhat = self.y_hat(X,w)\n",
    "            loss = self.loss(yhat,y)\n",
    "            \n",
    "            if it % 2000 == 0:\n",
    "                print(f'Cost at itetation {it} is {loss}')\n",
    "                \n",
    "            w = self.gradient_descent(w, X, y, yhat)\n",
    "        return w\n",
    "    \n",
    "if __name__ == '__main__':\n",
    "    X = np.random.rand(500,1)\n",
    "    y = 3 * X + np.random.randn(500,1) * 0.1\n",
    "    regression = LinearRegression()\n",
    "    w = regression.main(X,y)"
   ]
  },
  {
   "cell_type": "code",
   "execution_count": null,
   "id": "55284e9c",
   "metadata": {},
   "outputs": [],
   "source": []
  }
 ],
 "metadata": {
  "kernelspec": {
   "display_name": "Python 3 (ipykernel)",
   "language": "python",
   "name": "python3"
  },
  "language_info": {
   "codemirror_mode": {
    "name": "ipython",
    "version": 3
   },
   "file_extension": ".py",
   "mimetype": "text/x-python",
   "name": "python",
   "nbconvert_exporter": "python",
   "pygments_lexer": "ipython3",
   "version": "3.10.8"
  }
 },
 "nbformat": 4,
 "nbformat_minor": 5
}
