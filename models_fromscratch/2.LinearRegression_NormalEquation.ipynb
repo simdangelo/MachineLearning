{
 "cells": [
  {
   "cell_type": "markdown",
   "id": "fee7d019",
   "metadata": {},
   "source": [
    "For this model I used Aladdin Persson video on Youtube:\n",
    "\n",
    "https://www.youtube.com/watch?v=DQ6xfe75CDk&t=9s&ab_channel=AladdinPersson"
   ]
  },
  {
   "cell_type": "markdown",
   "id": "aeef9c2c",
   "metadata": {},
   "source": [
    "`X.shape = (training_examples, features)`\n",
    "\n",
    "`y.shape = (training_examples, 1)`\n",
    "\n",
    "`w.shape = (features, 1)`"
   ]
  },
  {
   "cell_type": "code",
   "execution_count": 165,
   "id": "e087432e",
   "metadata": {},
   "outputs": [],
   "source": [
    "import numpy as np"
   ]
  },
  {
   "cell_type": "code",
   "execution_count": 167,
   "id": "496b8fec",
   "metadata": {},
   "outputs": [
    {
     "name": "stdout",
     "output_type": "stream",
     "text": [
      "[-1.  1.]\n",
      "[[-8.49975046e-04]\n",
      " [ 4.99959869e+00]]\n"
     ]
    }
   ],
   "source": [
    "np.random.seed(0)\n",
    "\n",
    "def linear_regression_normal_equation(X,y):\n",
    "    # add a vector of ones for the bias term\n",
    "    ones = np.ones((X.shape[0],1))\n",
    "    X = np.append(ones, X, axis=1)\n",
    "    W = np.dot(np.linalg.pinv(np.dot(X.T, X)), np.dot(X.T, y)) # difference with np.linalg.inv()?\n",
    "    return W\n",
    "\n",
    "if __name__=='__main__':\n",
    "    X = np.array([[0,1,2]]).T\n",
    "    y = np.array([-1,0,1])\n",
    "    print(linear_regression_normal_equation(X,y))\n",
    "    \n",
    "    X1 = np.random.rand(5000,1)\n",
    "    y1= 5*X1 + np.random.randn(5000,1)*0.1\n",
    "    W1 = linear_regression_normal_equation(X1, y1)\n",
    "    print(W1)"
   ]
  },
  {
   "cell_type": "code",
   "execution_count": null,
   "id": "f0ce89f0",
   "metadata": {},
   "outputs": [],
   "source": []
  }
 ],
 "metadata": {
  "kernelspec": {
   "display_name": "Python 3 (ipykernel)",
   "language": "python",
   "name": "python3"
  },
  "language_info": {
   "codemirror_mode": {
    "name": "ipython",
    "version": 3
   },
   "file_extension": ".py",
   "mimetype": "text/x-python",
   "name": "python",
   "nbconvert_exporter": "python",
   "pygments_lexer": "ipython3",
   "version": "3.10.8"
  }
 },
 "nbformat": 4,
 "nbformat_minor": 5
}
